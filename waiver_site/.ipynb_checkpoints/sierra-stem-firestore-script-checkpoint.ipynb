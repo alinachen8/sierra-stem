{
 "cells": [
  {
   "cell_type": "code",
   "execution_count": 1,
   "id": "d25cf3a2",
   "metadata": {},
   "outputs": [],
   "source": [
    "import firebase_admin\n",
    "from firebase_admin import credentials\n",
    "from firebase_admin import firestore\n",
    "\n",
    "cred = credentials.Certificate(\"sierra-stem-firebase-adminsdk-o770a-3d7617ac20.json\")\n",
    "firebase_admin.initialize_app(cred)\n",
    "db = firestore.client()"
   ]
  },
  {
   "cell_type": "code",
   "execution_count": null,
   "id": "11c6da91",
   "metadata": {},
   "outputs": [],
   "source": [
    "# Note: Use of CollectionRef stream() is prefered to get()\n",
    "docs = (\n",
    "    db.collection(\"test-trip\")\n",
    "#     .where(filter=FieldFilter(\"capital\", \"==\", True))\n",
    "    .stream()\n",
    ")\n",
    "\n",
    "for doc in docs:\n",
    "    print(f\"{doc.id} => {doc.to_dict()}\")"
   ]
  },
  {
   "cell_type": "code",
   "execution_count": null,
   "id": "86632bbb",
   "metadata": {},
   "outputs": [],
   "source": []
  }
 ],
 "metadata": {
  "kernelspec": {
   "display_name": "Python 3 (ipykernel)",
   "language": "python",
   "name": "python3"
  },
  "language_info": {
   "codemirror_mode": {
    "name": "ipython",
    "version": 3
   },
   "file_extension": ".py",
   "mimetype": "text/x-python",
   "name": "python",
   "nbconvert_exporter": "python",
   "pygments_lexer": "ipython3",
   "version": "3.10.9"
  }
 },
 "nbformat": 4,
 "nbformat_minor": 5
}
